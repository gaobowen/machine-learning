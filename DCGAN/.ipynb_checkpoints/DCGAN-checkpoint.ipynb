{
 "cells": [
  {
   "cell_type": "code",
   "execution_count": 1,
   "id": "d6c66137-6d89-410a-b111-83da3db9bd69",
   "metadata": {},
   "outputs": [
    {
     "name": "stdout",
     "output_type": "stream",
     "text": [
      "/mnt/d/github/machine-learning/DCGAN\n"
     ]
    }
   ],
   "source": [
    "!pwd"
   ]
  },
  {
   "cell_type": "code",
   "execution_count": 4,
   "id": "e8e7813f-842d-4946-bdc6-ea78839777bf",
   "metadata": {},
   "outputs": [
    {
     "name": "stdout",
     "output_type": "stream",
     "text": [
      "tensor([6, 2, 7, 7, 5])\n"
     ]
    },
    {
     "data": {
      "image/png": "[encoded data removed]",
      "text/plain": [
       "<Figure size 640x480 with 1 Axes>"
      ]
     },
     "metadata": {},
     "output_type": "display_data"
    }
   ],
   "source": [
    "import torch\n",
    "import torch.nn as nn\n",
    "import torch.nn.functional as F\n",
    "import torch.optim as optim\n",
    "from torchvision import datasets, transforms\n",
    "import torchvision\n",
    "from torch.autograd import Variable\n",
    "from torch.utils.data import DataLoader\n",
    "import cv2\n",
    "import matplotlib.pyplot as plt\n",
    "\n",
    "data_tf = transforms.Compose(\n",
    "    [transforms.ToTensor(),\n",
    "    transforms.Normalize([0.5],[0.5])]\n",
    ")\n",
    "\n",
    "# 补充说明\n",
    "\n",
    "# transform.ToTensor() 作用是\n",
    "# 将输入的数据shape H，W，C —> C，H，W\n",
    "# 将所有数除以255.0，将数据归一化到【0，1】\n",
    "\n",
    "# transforms.Normalize 计算公式为 x = (x - mean) / std\n",
    "# 这里数据集是灰度图像只有一个通道，所以取了 [0.5],[0.5]，若是RGB图像参数格式应为 [0.5,0.5,0.5],[0.5,0.5,0.5] \n",
    "# 这里的 0.5 仅仅是此数据集的均值和方差，具体的取值要根据自己的数据集自行计算\n",
    "# transforms.Normalize 经过这样处理后将数据的【每个channel】 标准化，即均值为0，标准差为1。使模型更容易收敛。并非是归于【-1，1】\n",
    "# 另外 normalize 之后并不是正态分布，具体是什么分布取决于数据本身的分布\n",
    "# 将标准化数据 转回 图片数据 只需要逆运算即可, x = x * std + mean\n",
    "\n",
    "train_dataset = datasets.MNIST(root='./MNIST',train=True,transform=data_tf,download=True)\n",
    "\n",
    "train_loader = torch.utils.data.DataLoader(dataset=train_dataset,\n",
    "                                           batch_size=5,\n",
    "                                           shuffle=True)\n",
    "# 实现单张图片可视化\n",
    "images, labels = next(iter(train_loader))\n",
    "img = torchvision.utils.make_grid(images)\n",
    "\n",
    "img = img.numpy().transpose(1, 2, 0) \n",
    "std = [0.5, 0.5, 0.5]\n",
    "mean = [0.5, 0.5, 0.5]\n",
    "img = img * std + mean #逆运算\n",
    "print(labels)\n",
    "plt.imshow(img)\n",
    "plt.show()"
   ]
  },
  {
   "cell_type": "code",
   "execution_count": null,
   "id": "4b52d75d-b706-478c-8668-8a332089fb32",
   "metadata": {},
   "outputs": [],
   "source": [
    "\n",
    "\n",
    "\n"
   ]
  }
 ],
 "metadata": {
  "kernelspec": {
   "display_name": "Python 3 (ipykernel)",
   "language": "python",
   "name": "python3"
  },
  "language_info": {
   "codemirror_mode": {
    "name": "ipython",
    "version": 3
   },
   "file_extension": ".py",
   "mimetype": "text/x-python",
   "name": "python",
   "nbconvert_exporter": "python",
   "pygments_lexer": "ipython3",
   "version": "3.9.12"
  }
 },
 "nbformat": 4,
 "nbformat_minor": 5
}

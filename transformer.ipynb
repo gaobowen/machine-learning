{
  "nbformat": 4,
  "nbformat_minor": 0,
  "metadata": {
    "colab": {
      "provenance": [],
      "mount_file_id": "https://github.com/gaobowen/machine-learning/blob/main/transformer.ipynb",
      "authorship_tag": "ABX9TyPFZ/TvvO1elUUZ5DJKopgc",
      "include_colab_link": true
    },
    "kernelspec": {
      "name": "python3",
      "display_name": "Python 3"
    },
    "language_info": {
      "name": "python"
    }
  },
  "cells": [
    {
      "cell_type": "markdown",
      "metadata": {
        "id": "view-in-github",
        "colab_type": "text"
      },
      "source": [
        "<a href=\"https://colab.research.google.com/github/gaobowen/machine-learning/blob/main/transformer.ipynb\" target=\"_parent\"><img src=\"https://colab.research.google.com/assets/colab-badge.svg\" alt=\"Open In Colab\"/></a>"
      ]
    },
    {
      "cell_type": "markdown",
      "source": [
        "利用transformer架构完成中英翻译"
      ],
      "metadata": {
        "id": "es5cNqJNLA02"
      }
    },
    {
      "cell_type": "code",
      "execution_count": null,
      "metadata": {
        "id": "JukhFfyo-49M"
      },
      "outputs": [],
      "source": []
    }
  ]
}
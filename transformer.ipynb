{
  "nbformat": 4,
  "nbformat_minor": 0,
  "metadata": {
    "colab": {
      "provenance": [],
      "mount_file_id": "https://gist.github.com/gaobowen/65eaf7b43c5fbdbdc74599da45a97189#file-transformer-ipynb",
      "authorship_tag": "ABX9TyM6D5WywcHlwmEZtXbyzQsk",
      "include_colab_link": true
    },
    "kernelspec": {
      "name": "python3",
      "display_name": "Python 3"
    },
    "language_info": {
      "name": "python"
    }
  },
  "cells": [
    {
      "cell_type": "markdown",
      "metadata": {
        "id": "view-in-github",
        "colab_type": "text"
      },
      "source": [
        "<a href=\"https://colab.research.google.com/github/gaobowen/machine-learning/blob/main/transformer.ipynb\" target=\"_parent\"><img src=\"https://colab.research.google.com/assets/colab-badge.svg\" alt=\"Open In Colab\"/></a>"
      ]
    },
    {
      "cell_type": "markdown",
      "source": [
        "transformer中英翻译"
      ],
      "metadata": {
        "id": "Zz7OQz_MGrfu"
      }
    },
    {
      "cell_type": "code",
      "source": [
        "!pip install zhtools==0.0.5\n"
      ],
      "metadata": {
        "id": "eTCT0eyKK28n",
        "colab": {
          "base_uri": "https://localhost:8080/"
        },
        "outputId": "aeec1513-0353-4107-bf62-43ebe5d46ddd"
      },
      "execution_count": 1,
      "outputs": [
        {
          "output_type": "stream",
          "name": "stdout",
          "text": [
            "Looking in indexes: https://pypi.org/simple, https://us-python.pkg.dev/colab-wheels/public/simple/\n",
            "Collecting zhtools==0.0.5\n",
            "  Downloading zhtools-0.0.5.tar.gz (11 kB)\n",
            "  Preparing metadata (setup.py) ... \u001b[?25l\u001b[?25hdone\n",
            "Building wheels for collected packages: zhtools\n",
            "  Building wheel for zhtools (setup.py) ... \u001b[?25l\u001b[?25hdone\n",
            "  Created wheel for zhtools: filename=zhtools-0.0.5-py3-none-any.whl size=15771 sha256=431d824c967beab839fe5fd33337256a7cf80269b5f04131675811d760813719\n",
            "  Stored in directory: /root/.cache/pip/wheels/6e/56/93/36b35d60d36bd5f3b8a73d29c5486fa4d9c8c9bdd7bc5cde68\n",
            "Successfully built zhtools\n",
            "Installing collected packages: zhtools\n",
            "Successfully installed zhtools-0.0.5\n"
          ]
        }
      ]
    },
    {
      "cell_type": "code",
      "execution_count": null,
      "metadata": {
        "id": "JukhFfyo-49M"
      },
      "outputs": [],
      "source": [
        "import torch\n",
        "import numpy as np\n",
        "import pandas as pd\n",
        "\n"
      ]
    }
  ]
}